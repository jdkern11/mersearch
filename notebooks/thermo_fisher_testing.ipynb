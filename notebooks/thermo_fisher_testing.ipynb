{
 "cells": [
  {
   "cell_type": "code",
   "execution_count": 1,
   "id": "c0600930",
   "metadata": {},
   "outputs": [],
   "source": [
    "from pathlib import Path\n",
    "from copy import deepcopy\n",
    "\n",
    "from bs4 import BeautifulSoup\n",
    "from selenium import webdriver\n",
    "from selenium.webdriver.common.by import By\n",
    "from selenium.webdriver.firefox.service import Service\n",
    "from selenium.webdriver.firefox.options import Options\n",
    "from selenium.webdriver.common.action_chains import ActionChains\n",
    "from selenium.common.exceptions import NoSuchElementException, StaleElementReferenceException\n",
    "from selenium.webdriver.support.wait import WebDriverWait\n",
    "from selenium.webdriver.support import expected_conditions as EC\n",
    "\n",
    "from mersearch.helpers import smiles_to_mol_file_format"
   ]
  },
  {
   "cell_type": "code",
   "execution_count": 2,
   "id": "3bfabd13",
   "metadata": {},
   "outputs": [],
   "source": [
    "profile_path = str(Path('~') / 'Library' / 'Application Support' / 'Firefox' / 'Profiles' / 'pwofczxw.default')\n",
    "PROXY_HOST = \"12.12.12.123\"\n",
    "PROXY_PORT = \"1234\"\n",
    "options=Options()\n",
    "options.set_preference('profile', profile_path)\n",
    "options.set_preference(\"network.proxy.type\", 1)\n",
    "options.set_preference(\"network.proxy.http\", PROXY_HOST)\n",
    "options.set_preference(\"network.proxy.http_port\", int(PROXY_PORT))\n",
    "options.set_preference(\"dom.webdriver.enabled\", False)\n",
    "options.set_preference('useAutomationExtension', False)\n",
    "options.set_preference(\"excludeSwitches\", \"enable-automation\")\n",
    "service = Service(r'/usr/local/bin/geckodriver')\n",
    "\n",
    "driver = webdriver.Firefox(service=service, options=options)"
   ]
  },
  {
   "cell_type": "code",
   "execution_count": 48,
   "id": "666b5cf0",
   "metadata": {},
   "outputs": [],
   "source": [
    "url = \"https://www.thermofisher.com/search/chemical/structure\"\n",
    "driver.get(url)"
   ]
  },
  {
   "cell_type": "code",
   "execution_count": 49,
   "id": "e2cd9ea7",
   "metadata": {},
   "outputs": [],
   "source": [
    "# find iframe for marvinjs\n",
    "WebDriverWait(driver=driver, timeout=1).until(EC.presence_of_element_located((By.ID, 'sketch')))\n",
    "driver.switch_to.frame('sketch')"
   ]
  },
  {
   "cell_type": "code",
   "execution_count": 50,
   "id": "f25906cc",
   "metadata": {},
   "outputs": [],
   "source": [
    "# find toolbar of buttons\n",
    "mjs_toolbar = driver.find_element(By.CLASS_NAME, 'mjs-toolbar').find_element(By.CLASS_NAME, 'mjs-toolbar')\n",
    "# clear the page\n",
    "mjs_toolbar.find_element(By.XPATH, './/td[1]').find_element(By.TAG_NAME, 'img').click()\n",
    "# open mol file load\n",
    "mjs_toolbar.find_element(By.XPATH, './/td[2]').find_element(By.TAG_NAME, 'img').click()"
   ]
  },
  {
   "cell_type": "code",
   "execution_count": 51,
   "id": "5cf9fbb5",
   "metadata": {},
   "outputs": [],
   "source": [
    "# add mol file to the pop up\n",
    "popup = (\n",
    "    driver.find_element(By.CLASS_NAME, 'gwt-DialogBox.mjs-top')\n",
    "    .find_element(By.CLASS_NAME, 'dialogMiddleCenter')\n",
    ")\n",
    "molfile_textarea = (\n",
    "    popup.find_element(By.XPATH, './/tr[1]')\n",
    "    .find_element(By.XPATH, './/tr[6]')\n",
    "    .find_element(By.TAG_NAME, 'textarea')\n",
    ")\n",
    "# add molfile data\n",
    "# smiles = 'O=C1CCCCCCCCCCCCCCO1'\n",
    "# smiles = 'O=COC(=O)C1(C)CCCC2(C)C3CC(=O)OCC3CCC12'\n",
    "smiles = \"OCC\"\n",
    "molfile_textarea.clear()\n",
    "molfile_textarea.send_keys(smiles_to_mol_file_format(smiles))"
   ]
  },
  {
   "cell_type": "code",
   "execution_count": 52,
   "id": "dbfeeef5",
   "metadata": {},
   "outputs": [],
   "source": [
    "# push button to add\n",
    "popup.find_element(By.XPATH, './/tr[2]/td/div/div[1]/button').click()"
   ]
  },
  {
   "cell_type": "code",
   "execution_count": 53,
   "id": "74517a76",
   "metadata": {},
   "outputs": [],
   "source": [
    "# switch out of iframe\n",
    "driver.switch_to.default_content()"
   ]
  },
  {
   "cell_type": "code",
   "execution_count": 54,
   "id": "0ae18dfa",
   "metadata": {},
   "outputs": [],
   "source": [
    "driver.find_element(By.ID, 'exact-structure').click()"
   ]
  },
  {
   "cell_type": "code",
   "execution_count": 55,
   "id": "5cc627f7",
   "metadata": {},
   "outputs": [],
   "source": [
    "# click outside to exit if an error occurred\n",
    "action = ActionChains(driver)\n",
    "action.move_by_offset(0, 0).click().perform()"
   ]
  },
  {
   "cell_type": "code",
   "execution_count": null,
   "id": "158d26fe",
   "metadata": {},
   "outputs": [],
   "source": []
  }
 ],
 "metadata": {
  "kernelspec": {
   "display_name": "Python 3 (ipykernel)",
   "language": "python",
   "name": "python3"
  },
  "language_info": {
   "codemirror_mode": {
    "name": "ipython",
    "version": 3
   },
   "file_extension": ".py",
   "mimetype": "text/x-python",
   "name": "python",
   "nbconvert_exporter": "python",
   "pygments_lexer": "ipython3",
   "version": "3.10.8"
  }
 },
 "nbformat": 4,
 "nbformat_minor": 5
}
