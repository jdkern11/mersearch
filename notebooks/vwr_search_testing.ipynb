{
 "cells": [
  {
   "cell_type": "code",
   "execution_count": 1,
   "id": "1ea32151",
   "metadata": {},
   "outputs": [],
   "source": [
    "from pathlib import Path\n",
    "\n",
    "from bs4 import BeautifulSoup\n",
    "from selenium import webdriver\n",
    "from selenium.webdriver.common.by import By\n",
    "from selenium.webdriver.firefox.service import Service\n",
    "from selenium.webdriver.firefox.options import Options\n",
    "from selenium.webdriver.common.action_chains import ActionChains\n",
    "from selenium.common.exceptions import NoSuchElementException, StaleElementReferenceException\n",
    "from selenium.webdriver.support.wait import WebDriverWait\n",
    "from selenium.webdriver.support import expected_conditions as EC\n",
    "\n",
    "from mersearch.helpers import smiles_to_mol_file_format"
   ]
  },
  {
   "cell_type": "code",
   "execution_count": 2,
   "id": "9cd523ec",
   "metadata": {},
   "outputs": [],
   "source": [
    "def scroll_shim(passed_in_driver, object):\n",
    "    \"\"\"Allows firefox driver to scroll to elements without throwing an error\"\"\"\n",
    "    x = object.location['x']\n",
    "    y = object.location['y']\n",
    "    scroll_by_coord = 'window.scrollTo(%s,%s);' % (\n",
    "        x,\n",
    "        y\n",
    "    )\n",
    "    scroll_nav_out_of_way = 'window.scrollBy(0, -120);'\n",
    "    passed_in_driver.execute_script(scroll_by_coord)\n",
    "    passed_in_driver.execute_script(scroll_nav_out_of_way)"
   ]
  },
  {
   "cell_type": "code",
   "execution_count": 3,
   "id": "9c38b493",
   "metadata": {},
   "outputs": [],
   "source": [
    "profile_path = str(Path('~') / 'Library' / 'Application Support' / 'Firefox' / 'Profiles' / 'pwofczxw.default')\n",
    "PROXY_HOST = \"12.12.12.123\"\n",
    "PROXY_PORT = \"1234\"\n",
    "options=Options()\n",
    "options.set_preference('profile', profile_path)\n",
    "options.set_preference(\"network.proxy.type\", 1)\n",
    "options.set_preference(\"network.proxy.http\", PROXY_HOST)\n",
    "options.set_preference(\"network.proxy.http_port\", int(PROXY_PORT))\n",
    "options.set_preference(\"dom.webdriver.enabled\", False)\n",
    "options.set_preference('useAutomationExtension', False)\n",
    "options.set_preference(\"excludeSwitches\", \"enable-automation\")\n",
    "service = Service(r'/usr/local/bin/geckodriver')\n",
    "\n",
    "driver = webdriver.Firefox(service=service, options=options)"
   ]
  },
  {
   "cell_type": "code",
   "execution_count": 4,
   "id": "b9a4360d",
   "metadata": {},
   "outputs": [
    {
     "name": "stdout",
     "output_type": "stream",
     "text": [
      "<class 'selenium.webdriver.firefox.webdriver.WebDriver'>\n"
     ]
    }
   ],
   "source": [
    "print(type(driver))"
   ]
  },
  {
   "cell_type": "code",
   "execution_count": 5,
   "id": "ae205f00",
   "metadata": {},
   "outputs": [],
   "source": [
    "# navigate to this site to get auto logged in so search can be performed\n",
    "url = \"https://us.vwr.com/store/search/searchMol.jsp\"\n",
    "driver.get(url)"
   ]
  },
  {
   "cell_type": "code",
   "execution_count": 6,
   "id": "2af4bf6f",
   "metadata": {},
   "outputs": [],
   "source": [
    "# navigate to actual search site\n",
    "button_link = WebDriverWait(driver=driver, timeout=30).until(EC.presence_of_element_located((By.ID, \"emolPunchout\")))\n",
    "button = button_link.find_element(By.TAG_NAME, 'input')\n",
    "scroll_shim(driver, button)\n",
    "actions = ActionChains(driver)\n",
    "# scroll to the button\n",
    "actions.move_to_element(button_link).perform()\n",
    "# navigate to https://vwr.emolecules.com/index.php\n",
    "# click button until button is actually registered\n",
    "try:\n",
    "    while True:\n",
    "        button.click()\n",
    "except StaleElementReferenceException:\n",
    "    pass"
   ]
  },
  {
   "cell_type": "code",
   "execution_count": 7,
   "id": "d5232019",
   "metadata": {},
   "outputs": [],
   "source": [
    "# find button to load molfile and click it\n",
    "import_molfile_button = WebDriverWait(driver=driver, timeout=30).until(EC.presence_of_element_located((By.XPATH, '//span[@title=\"Import Molfile\"]')))\n",
    "import_molfile_button.click()"
   ]
  },
  {
   "cell_type": "code",
   "execution_count": 8,
   "id": "6d490464",
   "metadata": {},
   "outputs": [],
   "source": [
    "# find textarea to add molfile data to\n",
    "chemwriter = WebDriverWait(driver=driver, timeout=30).until(EC.presence_of_element_located((By.CLASS_NAME, \"chemwriter\")))\n",
    "molfile_pane = chemwriter.find_element(By.CLASS_NAME, 'content')\n",
    "molfile_textarea = molfile_pane.find_element(By.TAG_NAME, 'textarea')"
   ]
  },
  {
   "cell_type": "code",
   "execution_count": 9,
   "id": "b19f64bc",
   "metadata": {},
   "outputs": [],
   "source": [
    "# add molfile data\n",
    "smiles = 'O=C1CCCCCCCCCCCCCCO1'\n",
    "# smiles = 'O=COC(=O)C1(C)CCCC2(C)C3CC(=O)OCC3CCC12'\n",
    "molfile_textarea.clear()\n",
    "molfile_textarea.send_keys(smiles_to_mol_file_format(smiles))"
   ]
  },
  {
   "cell_type": "code",
   "execution_count": 10,
   "id": "7b57c2b5",
   "metadata": {},
   "outputs": [],
   "source": [
    "# find button to write molfile data to chemwriter\n",
    "button = chemwriter.find_element(By.TAG_NAME, 'button')\n",
    "button.click()"
   ]
  },
  {
   "cell_type": "code",
   "execution_count": 11,
   "id": "85a7f40b",
   "metadata": {},
   "outputs": [],
   "source": [
    "# run exact structure search\n",
    "button = WebDriverWait(driver=driver, timeout=30).until(EC.presence_of_element_located((By.NAME, \"ex_button\")))\n",
    "button.click()"
   ]
  },
  {
   "cell_type": "code",
   "execution_count": 12,
   "id": "bc88befd",
   "metadata": {},
   "outputs": [],
   "source": [
    "# search listed structures for first one and click\n",
    "try:\n",
    "    (\n",
    "        WebDriverWait(driver=driver, timeout=30).until(EC.presence_of_element_located((By.CLASS_NAME, \"hitlist-table\")))\n",
    "        .find_element(By.ID, 'row_0.0')\n",
    "        .find_element(By.CLASS_NAME, 'compound_actions_left')\n",
    "        .find_element(By.TAG_NAME, 'img')\n",
    "    ).click()\n",
    "except NoSuchElementException:\n",
    "    print(\"No element, smiles failed\")"
   ]
  },
  {
   "cell_type": "code",
   "execution_count": 13,
   "id": "2a9c9062",
   "metadata": {},
   "outputs": [],
   "source": [
    "soup = BeautifulSoup(driver.page_source, 'lxml')"
   ]
  },
  {
   "cell_type": "code",
   "execution_count": 14,
   "id": "7ecec018",
   "metadata": {},
   "outputs": [],
   "source": [
    "# find property data\n",
    "table = soup.find(\"table\", attrs={\"id\": \"properties_table\"})\n",
    "table_data = table.tbody.find_all(\"tr\")\n",
    "properties_data = {}\n",
    "# ignore properties row by starting at 1\n",
    "for tr in table_data[1:]:\n",
    "    td = tr.find_all(\"td\")\n",
    "    properties_data[td[0].string] = td[1].string"
   ]
  },
  {
   "cell_type": "code",
   "execution_count": 15,
   "id": "ade66d21",
   "metadata": {},
   "outputs": [],
   "source": [
    "# find name data\n",
    "name_data = {}\n",
    "names = []\n",
    "table = soup.find(\"div\", attrs={\"id\": \"name_table\"})\n",
    "table = table.find(\"table\", attrs={\"class\": \"data_table\"})\n",
    "table_data = table.tbody.find_all(\"tr\")\n",
    "# ignore known names row\n",
    "for tr in table_data[1:]:\n",
    "    td = tr.find_all(\"td\")\n",
    "    l_col = td[0].string.strip().strip(':')\n",
    "    if l_col != 'Name':\n",
    "        name_data[l_col] = td[1].string.strip()\n",
    "    else:\n",
    "        names.append(td[1].string.strip())\n",
    "name_data['names'] = names"
   ]
  },
  {
   "cell_type": "code",
   "execution_count": 16,
   "id": "d7c7bb2a",
   "metadata": {},
   "outputs": [],
   "source": [
    "# find supplier data\n",
    "supplier_data = {}\n",
    "table = soup.find(\"div\", attrs={\"id\": \"supplier_table\"})\n",
    "table = table.find(\"table\", attrs={\"class\": \"data_table\"})\n",
    "table_data = table.tbody.find_all(\"tr\")\n",
    "# ignore source, compound id row\n",
    "for tr in table_data[1:]:\n",
    "    td = tr.find_all(\"td\")\n",
    "    l_col = td[0].string.strip().strip(':')\n",
    "    supplier_data[l_col] = td[1].string.strip()"
   ]
  },
  {
   "cell_type": "code",
   "execution_count": 17,
   "id": "32c9c7bf",
   "metadata": {},
   "outputs": [],
   "source": [
    "# find and click more info button to see prices \n",
    "WebDriverWait(driver=driver, timeout=30).until(EC.presence_of_element_located((By.ID, \"add_item_0\"))).click()"
   ]
  },
  {
   "cell_type": "code",
   "execution_count": 24,
   "id": "bd35a70f",
   "metadata": {},
   "outputs": [],
   "source": [
    "soup = BeautifulSoup(driver.page_source, 'lxml')\n",
    "while soup.find(\"table\", attrs={\"class\": \"bbpricetable\"}) is None:\n",
    "    soup = BeautifulSoup(driver.page_source, 'lxml')"
   ]
  },
  {
   "cell_type": "code",
   "execution_count": 25,
   "id": "f2a8fb32",
   "metadata": {},
   "outputs": [],
   "source": [
    "# get costs\n",
    "table = soup.find(\"table\", attrs={\"class\": \"bbpricetable\"})"
   ]
  },
  {
   "cell_type": "code",
   "execution_count": 26,
   "id": "59a4e29b",
   "metadata": {},
   "outputs": [],
   "source": [
    "table_data = table.tbody.find_all(\"tr\")"
   ]
  },
  {
   "cell_type": "code",
   "execution_count": null,
   "id": "875ec590",
   "metadata": {},
   "outputs": [],
   "source": [
    "price_data = []\n",
    "for tr in table_data:\n",
    "    td = tr.find_all('td')\n",
    "    # large headers so skip\n",
    "    if len(td) == 1:\n",
    "        continue\n",
    "    # column headers so skip\n",
    "    elif len(td) == 7:\n",
    "        continue\n",
    "    elif len(td) == 8:\n",
    "        row = {\n",
    "            'supplier': td[0].text.strip(),\n",
    "            'supplier_id': td[1].text.split('Name')[0].strip(),\n",
    "        }\n",
    "        row['amount'] = td[5].text.strip()\n",
    "        row['units'] = td[6].text.strip()\n",
    "        row['price'] = td[7].text.strip()\n",
    "        price_data.append(row.copy())\n",
    "    elif len(td) == 5:\n",
    "        row['amount'] = td[2].text.strip()\n",
    "        row['units'] = td[3].text.strip()\n",
    "        row['price'] = td[4].text.strip()\n",
    "        price_data.append(row.copy())"
   ]
  },
  {
   "cell_type": "code",
   "execution_count": null,
   "id": "5ede5881",
   "metadata": {},
   "outputs": [],
   "source": [
    "driver.get('https://vwr.emolecules.com/index.php')"
   ]
  },
  {
   "cell_type": "code",
   "execution_count": null,
   "id": "e7e944bf",
   "metadata": {},
   "outputs": [],
   "source": []
  }
 ],
 "metadata": {
  "kernelspec": {
   "display_name": "Python 3 (ipykernel)",
   "language": "python",
   "name": "python3"
  },
  "language_info": {
   "codemirror_mode": {
    "name": "ipython",
    "version": 3
   },
   "file_extension": ".py",
   "mimetype": "text/x-python",
   "name": "python",
   "nbconvert_exporter": "python",
   "pygments_lexer": "ipython3",
   "version": "3.10.8"
  }
 },
 "nbformat": 4,
 "nbformat_minor": 5
}
