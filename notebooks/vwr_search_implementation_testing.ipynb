{
 "cells": [
  {
   "cell_type": "code",
   "execution_count": 95,
   "id": "1c435857",
   "metadata": {},
   "outputs": [],
   "source": [
    "from pathlib import Path\n",
    "import importlib\n",
    "import logging\n",
    "logging.basicConfig(level=logging.INFO)\n",
    "\n",
    "from bs4 import BeautifulSoup\n",
    "from selenium import webdriver\n",
    "from selenium.webdriver.support.wait import WebDriverWait\n",
    "from selenium.webdriver.support import expected_conditions as EC\n",
    "from selenium.webdriver.common.by import By\n",
    "from selenium.webdriver.firefox.service import Service\n",
    "from selenium.webdriver.firefox.options import Options\n",
    "import pandas as pd\n",
    "\n",
    "from mersearch import helpers\n",
    "from mersearch.helpers import smiles_to_mol_file_format\n",
    "from mersearch.vendors import vwr"
   ]
  },
  {
   "cell_type": "code",
   "execution_count": 98,
   "id": "26990b48",
   "metadata": {},
   "outputs": [
    {
     "data": {
      "text/plain": [
       "<module 'mersearch.vendors.vwr' from '/Users/josephkern/Desktop/mersearch/mersearch/vendors/vwr.py'>"
      ]
     },
     "execution_count": 98,
     "metadata": {},
     "output_type": "execute_result"
    }
   ],
   "source": [
    "importlib.reload(helpers)\n",
    "importlib.reload(vwr)"
   ]
  },
  {
   "cell_type": "code",
   "execution_count": 10,
   "id": "7c6a68cf",
   "metadata": {},
   "outputs": [],
   "source": [
    "profile_path = str(\n",
    "    Path(\"~\")\n",
    "    / \"Library\"\n",
    "    / \"Application Support\"\n",
    "    / \"Firefox\"\n",
    "    / \"Profiles\"\n",
    "    / \"pwofczxw.default\"\n",
    ")\n",
    "PROXY_HOST = \"12.12.12.123\"\n",
    "PROXY_PORT = \"1234\"\n",
    "options = Options()\n",
    "options.set_preference(\"profile\", profile_path)\n",
    "options.set_preference(\"network.proxy.type\", 1)\n",
    "options.set_preference(\"network.proxy.http\", PROXY_HOST)\n",
    "options.set_preference(\"network.proxy.http_port\", int(PROXY_PORT))\n",
    "options.set_preference(\"dom.webdriver.enabled\", False)\n",
    "options.set_preference(\"useAutomationExtension\", False)\n",
    "options.set_preference(\"excludeSwitches\", \"enable-automation\")\n",
    "service = Service(r\"/usr/local/bin/geckodriver\")\n",
    "\n",
    "configuration = {\"service\": service, \"options\": options}\n",
    "driver = webdriver.Firefox(**configuration)"
   ]
  },
  {
   "cell_type": "code",
   "execution_count": 4,
   "id": "485db68a",
   "metadata": {},
   "outputs": [],
   "source": [
    "path = Path.cwd() / '..' / '..' / 'molimg' / 'data' / 'vfs_promising_polymers.csv'\n",
    "df = pd.read_csv(str(path))"
   ]
  },
  {
   "cell_type": "code",
   "execution_count": 5,
   "id": "318a79ae",
   "metadata": {},
   "outputs": [],
   "source": [
    "smiles = df.monomer_smiles.to_list()"
   ]
  },
  {
   "cell_type": "code",
   "execution_count": 13,
   "id": "ef39cac9",
   "metadata": {},
   "outputs": [],
   "source": [
    "mol_files = {smile: smiles_to_mol_file_format(smile) for smile in smiles[2:3]}"
   ]
  },
  {
   "cell_type": "code",
   "execution_count": 14,
   "id": "5b112916",
   "metadata": {},
   "outputs": [
    {
     "name": "stderr",
     "output_type": "stream",
     "text": [
      "INFO:mersearch.vendors.vwr:Searching for O=C1CCCCCCCCCCCO1 in vwr\n"
     ]
    }
   ],
   "source": [
    "data = vwr.exact_search(driver, mol_files)"
   ]
  },
  {
   "cell_type": "code",
   "execution_count": 15,
   "id": "646d8366",
   "metadata": {},
   "outputs": [
    {
     "data": {
      "text/plain": [
       "[{'smiles': 'O=C1CCCCCCCCCCCO1',\n",
       "  'data': {'property_data': [{'property': 'MWt', 'value': '198.306'},\n",
       "    {'property': 'MF', 'value': 'C12H22O2'}],\n",
       "   'name_data': [{'name_type': 'SMILES', 'name': 'O=C1CCCCCCCCCCCO1'},\n",
       "    {'name_type': 'CAS', 'name': '947-05-7'},\n",
       "    {'name_type': 'Name', 'name': 'Oxacyclotridecan-2-one'},\n",
       "    {'name_type': 'Name', 'name': 'QH-1650'}],\n",
       "   'supplier_data': [{'supplier': 'Combi-Blocks, Inc.',\n",
       "     'supplier_id': 'QH-1650'}],\n",
       "   'price_data': [{'supplier': 'Combi-Blocks, Inc.',\n",
       "     'supplier_id': 'QH-1650',\n",
       "     'amount': '1',\n",
       "     'units': 'g',\n",
       "     'price': '156.00 USD'},\n",
       "    {'supplier': 'Combi-Blocks, Inc.',\n",
       "     'supplier_id': 'QH-1650',\n",
       "     'amount': '10',\n",
       "     'units': 'g',\n",
       "     'price': '776.00 USD',\n",
       "     'unit': 'g'}]}}]"
      ]
     },
     "execution_count": 15,
     "metadata": {},
     "output_type": "execute_result"
    }
   ],
   "source": [
    "data"
   ]
  },
  {
   "cell_type": "code",
   "execution_count": 17,
   "id": "8af1092b",
   "metadata": {},
   "outputs": [],
   "source": [
    "vwr.search_for_mol(driver, smiles_to_mol_file_format('O=C1CCCO1'), 'substructure')"
   ]
  },
  {
   "cell_type": "code",
   "execution_count": 68,
   "id": "67895e6b",
   "metadata": {},
   "outputs": [],
   "source": [
    "item = WebDriverWait(driver=driver, timeout=30).until(\n",
    "    EC.presence_of_element_located((By.ID, \"hitlist-page-numbers-bottom\"))\n",
    ")"
   ]
  },
  {
   "cell_type": "code",
   "execution_count": 100,
   "id": "70a02b5a",
   "metadata": {},
   "outputs": [
    {
     "ename": "NoSuchElementException",
     "evalue": "Message: The element with the reference a1733bda-5304-47c2-a0b5-20c006635e0a is not known in the current browsing context\nStacktrace:\nRemoteError@chrome://remote/content/shared/RemoteError.sys.mjs:8:8\nWebDriverError@chrome://remote/content/shared/webdriver/Errors.sys.mjs:180:5\nNoSuchElementError@chrome://remote/content/shared/webdriver/Errors.sys.mjs:392:5\nelement.getKnownElement@chrome://remote/content/marionette/element.sys.mjs:471:11\ndeserializeJSON@chrome://remote/content/marionette/json.sys.mjs:233:33\ncloneObject@chrome://remote/content/marionette/json.sys.mjs:56:24\ndeserializeJSON@chrome://remote/content/marionette/json.sys.mjs:244:16\ncloneObject@chrome://remote/content/marionette/json.sys.mjs:56:24\ndeserializeJSON@chrome://remote/content/marionette/json.sys.mjs:244:16\njson.deserialize@chrome://remote/content/marionette/json.sys.mjs:248:10\nreceiveMessage@chrome://remote/content/marionette/actors/MarionetteCommandsChild.sys.mjs:85:30\n",
     "output_type": "error",
     "traceback": [
      "\u001b[0;31m---------------------------------------------------------------------------\u001b[0m",
      "\u001b[0;31mNoSuchElementException\u001b[0m                    Traceback (most recent call last)",
      "Cell \u001b[0;32mIn[100], line 1\u001b[0m\n\u001b[0;32m----> 1\u001b[0m items \u001b[38;5;241m=\u001b[39m \u001b[43mitem\u001b[49m\u001b[38;5;241;43m.\u001b[39;49m\u001b[43mfind_elements\u001b[49m\u001b[43m(\u001b[49m\u001b[43mBy\u001b[49m\u001b[38;5;241;43m.\u001b[39;49m\u001b[43mTAG_NAME\u001b[49m\u001b[43m,\u001b[49m\u001b[43m \u001b[49m\u001b[38;5;124;43m\"\u001b[39;49m\u001b[38;5;124;43ma\u001b[39;49m\u001b[38;5;124;43m\"\u001b[39;49m\u001b[43m)\u001b[49m\n\u001b[1;32m      2\u001b[0m item1 \u001b[38;5;241m=\u001b[39m driver\u001b[38;5;241m.\u001b[39mfind_element(By\u001b[38;5;241m.\u001b[39mXPATH, \u001b[38;5;124m'\u001b[39m\u001b[38;5;124m//a[contains(text(),\u001b[39m\u001b[38;5;124m\"\u001b[39m\u001b[38;5;124mNext\u001b[39m\u001b[38;5;124m\"\u001b[39m\u001b[38;5;124m)]\u001b[39m\u001b[38;5;124m'\u001b[39m)\n",
      "File \u001b[0;32m~/Desktop/mersearch/.venv/lib/python3.10/site-packages/selenium/webdriver/remote/webelement.py:447\u001b[0m, in \u001b[0;36mWebElement.find_elements\u001b[0;34m(self, by, value)\u001b[0m\n\u001b[1;32m    444\u001b[0m     by \u001b[38;5;241m=\u001b[39m By\u001b[38;5;241m.\u001b[39mCSS_SELECTOR\n\u001b[1;32m    445\u001b[0m     value \u001b[38;5;241m=\u001b[39m \u001b[38;5;124mf\u001b[39m\u001b[38;5;124m'\u001b[39m\u001b[38;5;124m[name=\u001b[39m\u001b[38;5;124m\"\u001b[39m\u001b[38;5;132;01m{\u001b[39;00mvalue\u001b[38;5;132;01m}\u001b[39;00m\u001b[38;5;124m\"\u001b[39m\u001b[38;5;124m]\u001b[39m\u001b[38;5;124m'\u001b[39m\n\u001b[0;32m--> 447\u001b[0m \u001b[38;5;28;01mreturn\u001b[39;00m \u001b[38;5;28;43mself\u001b[39;49m\u001b[38;5;241;43m.\u001b[39;49m\u001b[43m_execute\u001b[49m\u001b[43m(\u001b[49m\u001b[43mCommand\u001b[49m\u001b[38;5;241;43m.\u001b[39;49m\u001b[43mFIND_CHILD_ELEMENTS\u001b[49m\u001b[43m,\u001b[49m\u001b[43m \u001b[49m\u001b[43m{\u001b[49m\u001b[38;5;124;43m\"\u001b[39;49m\u001b[38;5;124;43musing\u001b[39;49m\u001b[38;5;124;43m\"\u001b[39;49m\u001b[43m:\u001b[49m\u001b[43m \u001b[49m\u001b[43mby\u001b[49m\u001b[43m,\u001b[49m\u001b[43m \u001b[49m\u001b[38;5;124;43m\"\u001b[39;49m\u001b[38;5;124;43mvalue\u001b[39;49m\u001b[38;5;124;43m\"\u001b[39;49m\u001b[43m:\u001b[49m\u001b[43m \u001b[49m\u001b[43mvalue\u001b[49m\u001b[43m}\u001b[49m\u001b[43m)\u001b[49m[\u001b[38;5;124m\"\u001b[39m\u001b[38;5;124mvalue\u001b[39m\u001b[38;5;124m\"\u001b[39m]\n",
      "File \u001b[0;32m~/Desktop/mersearch/.venv/lib/python3.10/site-packages/selenium/webdriver/remote/webelement.py:403\u001b[0m, in \u001b[0;36mWebElement._execute\u001b[0;34m(self, command, params)\u001b[0m\n\u001b[1;32m    401\u001b[0m     params \u001b[38;5;241m=\u001b[39m {}\n\u001b[1;32m    402\u001b[0m params[\u001b[38;5;124m\"\u001b[39m\u001b[38;5;124mid\u001b[39m\u001b[38;5;124m\"\u001b[39m] \u001b[38;5;241m=\u001b[39m \u001b[38;5;28mself\u001b[39m\u001b[38;5;241m.\u001b[39m_id\n\u001b[0;32m--> 403\u001b[0m \u001b[38;5;28;01mreturn\u001b[39;00m \u001b[38;5;28;43mself\u001b[39;49m\u001b[38;5;241;43m.\u001b[39;49m\u001b[43m_parent\u001b[49m\u001b[38;5;241;43m.\u001b[39;49m\u001b[43mexecute\u001b[49m\u001b[43m(\u001b[49m\u001b[43mcommand\u001b[49m\u001b[43m,\u001b[49m\u001b[43m \u001b[49m\u001b[43mparams\u001b[49m\u001b[43m)\u001b[49m\n",
      "File \u001b[0;32m~/Desktop/mersearch/.venv/lib/python3.10/site-packages/selenium/webdriver/remote/webdriver.py:440\u001b[0m, in \u001b[0;36mWebDriver.execute\u001b[0;34m(self, driver_command, params)\u001b[0m\n\u001b[1;32m    438\u001b[0m response \u001b[38;5;241m=\u001b[39m \u001b[38;5;28mself\u001b[39m\u001b[38;5;241m.\u001b[39mcommand_executor\u001b[38;5;241m.\u001b[39mexecute(driver_command, params)\n\u001b[1;32m    439\u001b[0m \u001b[38;5;28;01mif\u001b[39;00m response:\n\u001b[0;32m--> 440\u001b[0m     \u001b[38;5;28;43mself\u001b[39;49m\u001b[38;5;241;43m.\u001b[39;49m\u001b[43merror_handler\u001b[49m\u001b[38;5;241;43m.\u001b[39;49m\u001b[43mcheck_response\u001b[49m\u001b[43m(\u001b[49m\u001b[43mresponse\u001b[49m\u001b[43m)\u001b[49m\n\u001b[1;32m    441\u001b[0m     response[\u001b[38;5;124m\"\u001b[39m\u001b[38;5;124mvalue\u001b[39m\u001b[38;5;124m\"\u001b[39m] \u001b[38;5;241m=\u001b[39m \u001b[38;5;28mself\u001b[39m\u001b[38;5;241m.\u001b[39m_unwrap_value(response\u001b[38;5;241m.\u001b[39mget(\u001b[38;5;124m\"\u001b[39m\u001b[38;5;124mvalue\u001b[39m\u001b[38;5;124m\"\u001b[39m, \u001b[38;5;28;01mNone\u001b[39;00m))\n\u001b[1;32m    442\u001b[0m     \u001b[38;5;28;01mreturn\u001b[39;00m response\n",
      "File \u001b[0;32m~/Desktop/mersearch/.venv/lib/python3.10/site-packages/selenium/webdriver/remote/errorhandler.py:245\u001b[0m, in \u001b[0;36mErrorHandler.check_response\u001b[0;34m(self, response)\u001b[0m\n\u001b[1;32m    243\u001b[0m         alert_text \u001b[38;5;241m=\u001b[39m value[\u001b[38;5;124m\"\u001b[39m\u001b[38;5;124malert\u001b[39m\u001b[38;5;124m\"\u001b[39m]\u001b[38;5;241m.\u001b[39mget(\u001b[38;5;124m\"\u001b[39m\u001b[38;5;124mtext\u001b[39m\u001b[38;5;124m\"\u001b[39m)\n\u001b[1;32m    244\u001b[0m     \u001b[38;5;28;01mraise\u001b[39;00m exception_class(message, screen, stacktrace, alert_text)  \u001b[38;5;66;03m# type: ignore[call-arg]  # mypy is not smart enough here\u001b[39;00m\n\u001b[0;32m--> 245\u001b[0m \u001b[38;5;28;01mraise\u001b[39;00m exception_class(message, screen, stacktrace)\n",
      "\u001b[0;31mNoSuchElementException\u001b[0m: Message: The element with the reference a1733bda-5304-47c2-a0b5-20c006635e0a is not known in the current browsing context\nStacktrace:\nRemoteError@chrome://remote/content/shared/RemoteError.sys.mjs:8:8\nWebDriverError@chrome://remote/content/shared/webdriver/Errors.sys.mjs:180:5\nNoSuchElementError@chrome://remote/content/shared/webdriver/Errors.sys.mjs:392:5\nelement.getKnownElement@chrome://remote/content/marionette/element.sys.mjs:471:11\ndeserializeJSON@chrome://remote/content/marionette/json.sys.mjs:233:33\ncloneObject@chrome://remote/content/marionette/json.sys.mjs:56:24\ndeserializeJSON@chrome://remote/content/marionette/json.sys.mjs:244:16\ncloneObject@chrome://remote/content/marionette/json.sys.mjs:56:24\ndeserializeJSON@chrome://remote/content/marionette/json.sys.mjs:244:16\njson.deserialize@chrome://remote/content/marionette/json.sys.mjs:248:10\nreceiveMessage@chrome://remote/content/marionette/actors/MarionetteCommandsChild.sys.mjs:85:30\n"
     ]
    }
   ],
   "source": [
    "items = item.find_elements(By.TAG_NAME, \"a\")\n",
    "item1 = driver.find_element(By.XPATH, '//a[contains(text(),\"Next\")]')"
   ]
  },
  {
   "cell_type": "code",
   "execution_count": 87,
   "id": "aac11a25",
   "metadata": {},
   "outputs": [
    {
     "name": "stdout",
     "output_type": "stream",
     "text": [
      "Next >>\n",
      "Next >>\n"
     ]
    }
   ],
   "source": [
    "for item2 in item1:\n",
    "    print(item2.text)"
   ]
  },
  {
   "cell_type": "code",
   "execution_count": 89,
   "id": "1a1d9230",
   "metadata": {},
   "outputs": [
    {
     "data": {
      "text/plain": [
       "'Next >>'"
      ]
     },
     "execution_count": 89,
     "metadata": {},
     "output_type": "execute_result"
    }
   ],
   "source": [
    "item1.text"
   ]
  },
  {
   "cell_type": "code",
   "execution_count": 90,
   "id": "b84a4931",
   "metadata": {},
   "outputs": [],
   "source": [
    "item2.click()"
   ]
  },
  {
   "cell_type": "code",
   "execution_count": 99,
   "id": "d74b99b4",
   "metadata": {},
   "outputs": [
    {
     "name": "stderr",
     "output_type": "stream",
     "text": [
      "INFO:mersearch.vendors.vwr:Searching page 1 in vwr\n",
      "WARNING:mersearch.vendors.vwr:'NoneType' object has no attribute 'strip'\n"
     ]
    },
    {
     "ename": "TimeoutException",
     "evalue": "Message: \nStacktrace:\nRemoteError@chrome://remote/content/shared/RemoteError.sys.mjs:8:8\nWebDriverError@chrome://remote/content/shared/webdriver/Errors.sys.mjs:180:5\nNoSuchElementError@chrome://remote/content/shared/webdriver/Errors.sys.mjs:392:5\nelement.find/</<@chrome://remote/content/marionette/element.sys.mjs:134:16\n",
     "output_type": "error",
     "traceback": [
      "\u001b[0;31m---------------------------------------------------------------------------\u001b[0m",
      "\u001b[0;31mTimeoutException\u001b[0m                          Traceback (most recent call last)",
      "Cell \u001b[0;32mIn[99], line 2\u001b[0m\n\u001b[1;32m      1\u001b[0m mol_file \u001b[38;5;241m=\u001b[39m smiles_to_mol_file_format(smiles[\u001b[38;5;241m2\u001b[39m])\n\u001b[0;32m----> 2\u001b[0m data \u001b[38;5;241m=\u001b[39m \u001b[43mvwr\u001b[49m\u001b[38;5;241;43m.\u001b[39;49m\u001b[43msubstructure_search\u001b[49m\u001b[43m(\u001b[49m\u001b[43mdriver\u001b[49m\u001b[43m,\u001b[49m\u001b[43m \u001b[49m\u001b[43mmol_file\u001b[49m\u001b[43m)\u001b[49m\n",
      "File \u001b[0;32m~/Desktop/mersearch/mersearch/vendors/vwr.py:67\u001b[0m, in \u001b[0;36msubstructure_search\u001b[0;34m(driver, mol_file, pages)\u001b[0m\n\u001b[1;32m     65\u001b[0m login(driver)\n\u001b[1;32m     66\u001b[0m \u001b[38;5;28;01mwhile\u001b[39;00m pages \u001b[38;5;241m<\u001b[39m \u001b[38;5;241m1\u001b[39m \u001b[38;5;129;01mor\u001b[39;00m page \u001b[38;5;241m<\u001b[39m pages:\n\u001b[0;32m---> 67\u001b[0m     \u001b[43msearch_for_mol\u001b[49m\u001b[43m(\u001b[49m\u001b[43mdriver\u001b[49m\u001b[43m,\u001b[49m\u001b[43m \u001b[49m\u001b[43mmol_file\u001b[49m\u001b[43m,\u001b[49m\u001b[43m \u001b[49m\u001b[38;5;124;43m'\u001b[39;49m\u001b[38;5;124;43msubstructure\u001b[39;49m\u001b[38;5;124;43m'\u001b[39;49m\u001b[43m)\u001b[49m\n\u001b[1;32m     68\u001b[0m     row \u001b[38;5;241m=\u001b[39m \u001b[38;5;241m0\u001b[39m\n\u001b[1;32m     69\u001b[0m     page_data \u001b[38;5;241m=\u001b[39m []\n",
      "File \u001b[0;32m~/Desktop/mersearch/mersearch/vendors/vwr.py:129\u001b[0m, in \u001b[0;36msearch_for_mol\u001b[0;34m(driver, mol_file, search_type)\u001b[0m\n\u001b[1;32m    127\u001b[0m     \u001b[38;5;28;01mraise\u001b[39;00m \u001b[38;5;167;01mValueError\u001b[39;00m(\u001b[38;5;124m\"\u001b[39m\u001b[38;5;124mOnly \u001b[39m\u001b[38;5;124m'\u001b[39m\u001b[38;5;124mexact\u001b[39m\u001b[38;5;124m'\u001b[39m\u001b[38;5;124m or \u001b[39m\u001b[38;5;124m'\u001b[39m\u001b[38;5;124msubstructure\u001b[39m\u001b[38;5;124m'\u001b[39m\u001b[38;5;124m search allowed\u001b[39m\u001b[38;5;124m\"\u001b[39m)\n\u001b[1;32m    128\u001b[0m \u001b[38;5;66;03m# find button to load mol_file and click it\u001b[39;00m\n\u001b[0;32m--> 129\u001b[0m \u001b[43mWebDriverWait\u001b[49m\u001b[43m(\u001b[49m\u001b[43mdriver\u001b[49m\u001b[38;5;241;43m=\u001b[39;49m\u001b[43mdriver\u001b[49m\u001b[43m,\u001b[49m\u001b[43m \u001b[49m\u001b[43mtimeout\u001b[49m\u001b[38;5;241;43m=\u001b[39;49m\u001b[38;5;241;43m30\u001b[39;49m\u001b[43m)\u001b[49m\u001b[38;5;241;43m.\u001b[39;49m\u001b[43muntil\u001b[49m\u001b[43m(\u001b[49m\n\u001b[1;32m    130\u001b[0m \u001b[43m    \u001b[49m\u001b[43mEC\u001b[49m\u001b[38;5;241;43m.\u001b[39;49m\u001b[43mpresence_of_element_located\u001b[49m\u001b[43m(\u001b[49m\u001b[43m(\u001b[49m\u001b[43mBy\u001b[49m\u001b[38;5;241;43m.\u001b[39;49m\u001b[43mXPATH\u001b[49m\u001b[43m,\u001b[49m\u001b[43m \u001b[49m\u001b[38;5;124;43m'\u001b[39;49m\u001b[38;5;124;43m//span[@title=\u001b[39;49m\u001b[38;5;124;43m\"\u001b[39;49m\u001b[38;5;124;43mImport Molfile\u001b[39;49m\u001b[38;5;124;43m\"\u001b[39;49m\u001b[38;5;124;43m]\u001b[39;49m\u001b[38;5;124;43m'\u001b[39;49m\u001b[43m)\u001b[49m\u001b[43m)\u001b[49m\n\u001b[1;32m    131\u001b[0m \u001b[43m\u001b[49m\u001b[43m)\u001b[49m\u001b[38;5;241m.\u001b[39mclick()\n\u001b[1;32m    132\u001b[0m \u001b[38;5;66;03m# find textarea to add mol_file data to\u001b[39;00m\n\u001b[1;32m    133\u001b[0m chemwriter \u001b[38;5;241m=\u001b[39m WebDriverWait(driver\u001b[38;5;241m=\u001b[39mdriver, timeout\u001b[38;5;241m=\u001b[39m\u001b[38;5;241m30\u001b[39m)\u001b[38;5;241m.\u001b[39muntil(\n\u001b[1;32m    134\u001b[0m     EC\u001b[38;5;241m.\u001b[39mpresence_of_element_located((By\u001b[38;5;241m.\u001b[39mCLASS_NAME, \u001b[38;5;124m\"\u001b[39m\u001b[38;5;124mchemwriter\u001b[39m\u001b[38;5;124m\"\u001b[39m))\n\u001b[1;32m    135\u001b[0m )\n",
      "File \u001b[0;32m~/Desktop/mersearch/.venv/lib/python3.10/site-packages/selenium/webdriver/support/wait.py:95\u001b[0m, in \u001b[0;36mWebDriverWait.until\u001b[0;34m(self, method, message)\u001b[0m\n\u001b[1;32m     93\u001b[0m     \u001b[38;5;28;01mif\u001b[39;00m time\u001b[38;5;241m.\u001b[39mmonotonic() \u001b[38;5;241m>\u001b[39m end_time:\n\u001b[1;32m     94\u001b[0m         \u001b[38;5;28;01mbreak\u001b[39;00m\n\u001b[0;32m---> 95\u001b[0m \u001b[38;5;28;01mraise\u001b[39;00m TimeoutException(message, screen, stacktrace)\n",
      "\u001b[0;31mTimeoutException\u001b[0m: Message: \nStacktrace:\nRemoteError@chrome://remote/content/shared/RemoteError.sys.mjs:8:8\nWebDriverError@chrome://remote/content/shared/webdriver/Errors.sys.mjs:180:5\nNoSuchElementError@chrome://remote/content/shared/webdriver/Errors.sys.mjs:392:5\nelement.find/</<@chrome://remote/content/marionette/element.sys.mjs:134:16\n"
     ]
    }
   ],
   "source": [
    "mol_file = smiles_to_mol_file_format(smiles[2])\n",
    "data = vwr.substructure_search(driver, mol_file)"
   ]
  },
  {
   "cell_type": "code",
   "execution_count": 101,
   "id": "bee85ee5",
   "metadata": {},
   "outputs": [],
   "source": [
    "driver.close()"
   ]
  },
  {
   "cell_type": "code",
   "execution_count": null,
   "id": "19968fb9",
   "metadata": {},
   "outputs": [],
   "source": []
  }
 ],
 "metadata": {
  "kernelspec": {
   "display_name": "Python 3 (ipykernel)",
   "language": "python",
   "name": "python3"
  },
  "language_info": {
   "codemirror_mode": {
    "name": "ipython",
    "version": 3
   },
   "file_extension": ".py",
   "mimetype": "text/x-python",
   "name": "python",
   "nbconvert_exporter": "python",
   "pygments_lexer": "ipython3",
   "version": "3.10.8"
  }
 },
 "nbformat": 4,
 "nbformat_minor": 5
}
